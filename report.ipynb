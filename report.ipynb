{
 "cells": [
  {
   "cell_type": "code",
   "execution_count": null,
   "metadata": {},
   "outputs": [],
   "source": [
    "import matplotlib.pyplot as plt"
   ]
  },
  {
   "cell_type": "markdown",
   "metadata": {},
   "source": [
    "# Local PC\n",
    "Hard ware\n",
    "* i7-13700KF\n",
    "* 16GB DDR6 Memory\n",
    "* RTX 4090\n",
    "\n",
    "Software\n",
    "* `PLINK v1.90b7.2 64-bit (11 Dec 2023)`\n",
    "* `pytorch '2.1.2.post301'`"
   ]
  },
  {
   "cell_type": "code",
   "execution_count": null,
   "metadata": {},
   "outputs": [],
   "source": [
    "batch_size = [2, 6, 10, 14]\n",
    "CPU_P = [73.0782,48.5969,47.5618,46.4469]\n",
    "CUDA_P = [72.9471,48.745,47.3716,46.8076]\n",
    "CPU_N = [54.2611,46.2464,46.2774,45.8784]\n",
    "CUDA_N = [54.2315,46.1795,46.4419,45.7019]\n",
    "plink = 10.607\n",
    "\n",
    "# plot for CPU\n",
    "plt.plot(batch_size, CPU_P, c=\"C0\", linestyle=\"--\", label=\"My GWAS (CPU)\")\n",
    "plt.scatter(batch_size, CPU_P, c=\"C0\")\n",
    "plt.plot(batch_size, CPU_N, c=\"C0\", linestyle=\":\", label=\"My GWAS (CPU) [skipping P-val]\")\n",
    "plt.scatter(batch_size, CPU_N, c=\"C0\", marker=\"^\")\n",
    "plt.axhline(y = plink, color = 'r', linestyle = '--', label=\"PLINK v1.90b7.2 64-bit (11 Dec 2023)\")\n",
    "plt.xlabel(\"batch_size (log2)\")\n",
    "plt.ylabel(\"time\")\n",
    "plt.ylim(0)\n",
    "plt.legend()\n",
    "plt.title(\"Local PC\")\n",
    "plt.show()\n",
    "# plot for GPU\n",
    "plt.plot(batch_size, CUDA_P, c=\"C2\", linestyle=\"--\", label=\"My GWAS (GPU)\")\n",
    "plt.scatter(batch_size, CUDA_P, c=\"C2\")\n",
    "plt.plot(batch_size, CUDA_N, c=\"C2\", linestyle=\":\", label=\"My GWAS (GPU) [skipping P-val]\")\n",
    "plt.scatter(batch_size, CUDA_N, c=\"C2\", marker=\"^\")\n",
    "plt.axhline(y = plink, color = 'r', linestyle = '--', label=\"PLINK v1.90b7.2 64-bit (11 Dec 2023)\")\n",
    "plt.xlabel(\"batch_size (log2)\")\n",
    "plt.ylabel(\"time\")\n",
    "plt.ylim(0)\n",
    "plt.legend()\n",
    "plt.title(\"Local PC\")\n",
    "plt.show()"
   ]
  },
  {
   "cell_type": "markdown",
   "metadata": {},
   "source": [
    "# Data Hub\n",
    "Hard ware\n",
    "* AMD EPYC 7662 64-Core Processor (8 core instance)\n",
    "* 16GB Memory\n",
    "\n",
    "Software\n",
    "* `PLINK v1.90b6.9 64-bit (4 Mar 2019)`\n",
    "* `PLINK v1.90b7.2 64-bit (11 Dec 2023)`\n",
    "* `pytorch '2.1.2.post301'`"
   ]
  },
  {
   "cell_type": "code",
   "execution_count": null,
   "metadata": {},
   "outputs": [],
   "source": [
    "batch_size = [2, 6, 10, 14]\n",
    "CPU_P = [176.4755,121.1965,193.0313,143.1166]\n",
    "CPU_N = [142.5422,114.0411,185.9999,130.7731]\n",
    "plink_19 = 910.86\n",
    "plink_23 = 746.397\n",
    "\n",
    "# plot for CPU\n",
    "plt.axhline(y = plink_19, color = 'r', linestyle = '-', label=\"PLINK v1.90b6.9 64-bit (4 Mar 2019)\")\n",
    "plt.axhline(y = plink_23, color = 'r', linestyle = '--', label=\"PLINK v1.90b7.2 64-bit (11 Dec 2023)\")\n",
    "plt.plot(batch_size, CPU_P, c=\"C0\", linestyle=\"--\", label=\"My GWAS (CPU)\")\n",
    "plt.scatter(batch_size, CPU_P, c=\"C0\")\n",
    "plt.plot(batch_size, CPU_N, c=\"C0\", linestyle=\":\", label=\"My GWAS (CPU) [skipping P-val]\")\n",
    "plt.scatter(batch_size, CPU_N, c=\"C0\", marker=\"^\")\n",
    "plt.xlabel(\"batch_size (log2)\")\n",
    "plt.ylabel(\"time\")\n",
    "plt.ylim(0)\n",
    "plt.legend()\n",
    "plt.title(\"DataHub\")\n",
    "plt.show()"
   ]
  }
 ],
 "metadata": {
  "kernelspec": {
   "display_name": "base",
   "language": "python",
   "name": "python3"
  },
  "language_info": {
   "codemirror_mode": {
    "name": "ipython",
    "version": 3
   },
   "file_extension": ".py",
   "mimetype": "text/x-python",
   "name": "python",
   "nbconvert_exporter": "python",
   "pygments_lexer": "ipython3",
   "version": "3.11.7"
  }
 },
 "nbformat": 4,
 "nbformat_minor": 2
}
